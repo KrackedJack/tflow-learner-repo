{
  "nbformat": 4,
  "nbformat_minor": 0,
  "metadata": {
    "colab": {
      "name": "horses_or_humans",
      "provenance": [],
      "collapsed_sections": [],
      "authorship_tag": "ABX9TyMCRZi8PoZu167PI5QOEqny",
      "include_colab_link": true
    },
    "kernelspec": {
      "name": "python3",
      "display_name": "Python 3"
    },
    "language_info": {
      "name": "python"
    },
    "accelerator": "GPU"
  },
  "cells": [
    {
      "cell_type": "markdown",
      "metadata": {
        "id": "view-in-github",
        "colab_type": "text"
      },
      "source": [
        "<a href=\"https://colab.research.google.com/github/KrackedJack/tflow-learner-repo/blob/main/horses_or_humans.ipynb\" target=\"_parent\"><img src=\"https://colab.research.google.com/assets/colab-badge.svg\" alt=\"Open In Colab\"/></a>"
      ]
    },
    {
      "cell_type": "code",
      "metadata": {
        "id": "G3f0n1_Hd6Ym"
      },
      "source": [
        "import tensorflow as tf\n",
        "import tensorflow_datasets as tfds\n",
        "import os"
      ],
      "execution_count": 1,
      "outputs": []
    },
    {
      "cell_type": "code",
      "metadata": {
        "id": "R-hASTtqD35t"
      },
      "source": [
        "(ds_train, ds_val, ds_test), ds_info = tfds.load('horses_or_humans', split = ['train','test[:22%]','test[22%:]'], with_info = True, shuffle_files = True, data_dir = 'temp', as_supervised = True) "
      ],
      "execution_count": 2,
      "outputs": []
    },
    {
      "cell_type": "code",
      "metadata": {
        "id": "h13DtLs3AUU4"
      },
      "source": [
        "def preprocess_image(img, label):\n",
        "    return tf.cast(img, tf.float32) / 255.0, label"
      ],
      "execution_count": 3,
      "outputs": []
    },
    {
      "cell_type": "code",
      "metadata": {
        "id": "vyq2gfwyU4P_"
      },
      "source": [
        "class CustomStoppingCallback(tf.keras.callbacks.Callback):\n",
        "    def on_epoch_end(self, epoch, logs=None):\n",
        "        if logs['acc'] > 0.99:\n",
        "            print(\"Accuracy above 0.99, stopping training.\")\n",
        "            self.model.stop_training = True"
      ],
      "execution_count": 4,
      "outputs": []
    },
    {
      "cell_type": "code",
      "metadata": {
        "id": "4mivoaW694AT"
      },
      "source": [
        "ds_train = ds_train.map(preprocess_image, num_parallel_calls = tf.data.experimental.AUTOTUNE)\n",
        "ds_train = ds_train.cache()\n",
        "ds_train = ds_train.shuffle(ds_info.splits['train'].num_examples)\n",
        "ds_train = ds_train.batch(16)\n",
        "ds_train = ds_train.prefetch(tf.data.experimental.AUTOTUNE)\n",
        "\n",
        "ds_test = ds_test.map(preprocess_image, num_parallel_calls = tf.data.experimental.AUTOTUNE)\n",
        "ds_test = ds_test.batch(16)\n",
        "ds_test = ds_test.cache()\n",
        "ds_test = ds_test.prefetch(tf.data.experimental.AUTOTUNE)\n",
        "\n",
        "ds_val = ds_val.map(preprocess_image, num_parallel_calls = tf.data.experimental.AUTOTUNE)\n",
        "ds_val = ds_val.batch(16)\n",
        "ds_val = ds_val.cache()\n",
        "ds_val = ds_val.prefetch(tf.data.experimental.AUTOTUNE)"
      ],
      "execution_count": 5,
      "outputs": []
    },
    {
      "cell_type": "code",
      "metadata": {
        "id": "4pU9FtaGE9Qi",
        "colab": {
          "base_uri": "https://localhost:8080/"
        },
        "outputId": "7f06c616-fb4d-4567-92c8-cea31373cf1b"
      },
      "source": [
        "model = tf.keras.models.Sequential([\n",
        "    tf.keras.layers.Conv2D(32, (5,5), input_shape=ds_info.features['image'].shape, activation='relu'), \n",
        "    tf.keras.layers.MaxPool2D(3,3),\n",
        "\n",
        "    tf.keras.layers.Conv2D(64, (5,5), activation='relu'),\n",
        "    tf.keras.layers.MaxPool2D(3,3),\n",
        "    \n",
        "    tf.keras.layers.Conv2D(128, (5,5), activation='relu'),\n",
        "    tf.keras.layers.MaxPool2D(3,3),\n",
        "    \n",
        "    tf.keras.layers.Flatten(),\n",
        "    tf.keras.layers.Dense(512, activation='relu'),\n",
        "    tf.keras.layers.Dropout(0.2),\n",
        "    tf.keras.layers.Dense(128, activation='relu'),\n",
        "    tf.keras.layers.Dense(1, activation='sigmoid')\n",
        "])\n",
        "\n",
        "model.summary()"
      ],
      "execution_count": 6,
      "outputs": [
        {
          "output_type": "stream",
          "text": [
            "Model: \"sequential\"\n",
            "_________________________________________________________________\n",
            "Layer (type)                 Output Shape              Param #   \n",
            "=================================================================\n",
            "conv2d (Conv2D)              (None, 296, 296, 32)      2432      \n",
            "_________________________________________________________________\n",
            "max_pooling2d (MaxPooling2D) (None, 98, 98, 32)        0         \n",
            "_________________________________________________________________\n",
            "conv2d_1 (Conv2D)            (None, 94, 94, 64)        51264     \n",
            "_________________________________________________________________\n",
            "max_pooling2d_1 (MaxPooling2 (None, 31, 31, 64)        0         \n",
            "_________________________________________________________________\n",
            "conv2d_2 (Conv2D)            (None, 27, 27, 128)       204928    \n",
            "_________________________________________________________________\n",
            "max_pooling2d_2 (MaxPooling2 (None, 9, 9, 128)         0         \n",
            "_________________________________________________________________\n",
            "flatten (Flatten)            (None, 10368)             0         \n",
            "_________________________________________________________________\n",
            "dense (Dense)                (None, 512)               5308928   \n",
            "_________________________________________________________________\n",
            "dropout (Dropout)            (None, 512)               0         \n",
            "_________________________________________________________________\n",
            "dense_1 (Dense)              (None, 128)               65664     \n",
            "_________________________________________________________________\n",
            "dense_2 (Dense)              (None, 1)                 129       \n",
            "=================================================================\n",
            "Total params: 5,633,345\n",
            "Trainable params: 5,633,345\n",
            "Non-trainable params: 0\n",
            "_________________________________________________________________\n"
          ],
          "name": "stdout"
        }
      ]
    },
    {
      "cell_type": "code",
      "metadata": {
        "id": "OSzanKJ9K7CJ"
      },
      "source": [
        "model.compile(optimizer='adam', loss='binary_crossentropy', metrics=['acc'])"
      ],
      "execution_count": 7,
      "outputs": []
    },
    {
      "cell_type": "code",
      "metadata": {
        "colab": {
          "base_uri": "https://localhost:8080/"
        },
        "id": "zGfB07oWLWE0",
        "outputId": "a33b1986-3a06-426b-fb65-04ca3e3c4825"
      },
      "source": [
        "history = model.fit(ds_train, epochs=50, callbacks=[CustomStoppingCallback()], validation_data=ds_val)"
      ],
      "execution_count": 8,
      "outputs": [
        {
          "output_type": "stream",
          "text": [
            "Epoch 1/50\n",
            "65/65 [==============================] - 13s 91ms/step - loss: 0.5313 - acc: 0.7144 - val_loss: 0.5176 - val_acc: 0.9107\n",
            "Epoch 2/50\n",
            "65/65 [==============================] - 5s 71ms/step - loss: 0.1793 - acc: 0.9293 - val_loss: 0.2899 - val_acc: 0.9107\n",
            "Epoch 3/50\n",
            "65/65 [==============================] - 5s 71ms/step - loss: 0.1592 - acc: 0.9528 - val_loss: 0.1491 - val_acc: 0.9643\n",
            "Epoch 4/50\n",
            "65/65 [==============================] - 5s 70ms/step - loss: 0.0501 - acc: 0.9877 - val_loss: 0.3623 - val_acc: 0.9107\n",
            "Epoch 5/50\n",
            "65/65 [==============================] - 5s 70ms/step - loss: 0.0386 - acc: 0.9831 - val_loss: 0.6053 - val_acc: 0.8393\n",
            "Epoch 6/50\n",
            "65/65 [==============================] - 5s 71ms/step - loss: 0.0237 - acc: 0.9912 - val_loss: 0.3752 - val_acc: 0.9107\n",
            "Accuracy above 0.99, stopping training.\n"
          ],
          "name": "stdout"
        }
      ]
    },
    {
      "cell_type": "code",
      "metadata": {
        "colab": {
          "base_uri": "https://localhost:8080/"
        },
        "id": "Ho7ZRZD5jC-S",
        "outputId": "739e0499-b28d-4511-b66e-3f1bf87ab40b"
      },
      "source": [
        "model.evaluate(ds_test)"
      ],
      "execution_count": 9,
      "outputs": [
        {
          "output_type": "stream",
          "text": [
            "13/13 [==============================] - 1s 62ms/step - loss: 1.4473 - acc: 0.8800\n"
          ],
          "name": "stdout"
        },
        {
          "output_type": "execute_result",
          "data": {
            "text/plain": [
              "[1.4473077058792114, 0.8799999952316284]"
            ]
          },
          "metadata": {
            "tags": []
          },
          "execution_count": 9
        }
      ]
    },
    {
      "cell_type": "markdown",
      "metadata": {
        "id": "tkkqX11u2KqZ"
      },
      "source": [
        "### References:\n",
        "\n",
        "[TFDS Guide](https://www.tensorflow.org/datasets/keras_examplen)\n",
        "\n",
        "\n",
        "\n"
      ]
    }
  ]
}